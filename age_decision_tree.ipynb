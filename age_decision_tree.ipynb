{
 "cells": [
  {
   "cell_type": "code",
   "execution_count": 1,
   "metadata": {},
   "outputs": [],
   "source": [
    "import numpy as np\n",
    "import pandas as pd\n",
    "import sklearn"
   ]
  },
  {
   "cell_type": "code",
   "execution_count": 2,
   "metadata": {},
   "outputs": [],
   "source": [
    "#train,testデータの保存\n",
    "train = pd.read_csv(\"./Downloads/Titanic/train.csv\")\n",
    "test = pd.read_csv(\"./Downloads/Titanic/test.csv\")\n",
    "#shapeを保存\n",
    "train_shape = train.shape\n",
    "test_shape = test.shape"
   ]
  },
  {
   "cell_type": "code",
   "execution_count": 3,
   "metadata": {},
   "outputs": [
    {
     "name": "stderr",
     "output_type": "stream",
     "text": [
      "/anaconda3/lib/python3.7/site-packages/ipykernel_launcher.py:2: SettingWithCopyWarning: \n",
      "A value is trying to be set on a copy of a slice from a DataFrame\n",
      "\n",
      "See the caveats in the documentation: http://pandas.pydata.org/pandas-docs/stable/indexing.html#indexing-view-versus-copy\n",
      "  \n",
      "/anaconda3/lib/python3.7/site-packages/ipykernel_launcher.py:3: SettingWithCopyWarning: \n",
      "A value is trying to be set on a copy of a slice from a DataFrame\n",
      "\n",
      "See the caveats in the documentation: http://pandas.pydata.org/pandas-docs/stable/indexing.html#indexing-view-versus-copy\n",
      "  This is separate from the ipykernel package so we can avoid doing imports until\n",
      "/anaconda3/lib/python3.7/site-packages/ipykernel_launcher.py:4: SettingWithCopyWarning: \n",
      "A value is trying to be set on a copy of a slice from a DataFrame\n",
      "\n",
      "See the caveats in the documentation: http://pandas.pydata.org/pandas-docs/stable/indexing.html#indexing-view-versus-copy\n",
      "  after removing the cwd from sys.path.\n",
      "/anaconda3/lib/python3.7/site-packages/ipykernel_launcher.py:5: SettingWithCopyWarning: \n",
      "A value is trying to be set on a copy of a slice from a DataFrame\n",
      "\n",
      "See the caveats in the documentation: http://pandas.pydata.org/pandas-docs/stable/indexing.html#indexing-view-versus-copy\n",
      "  \"\"\"\n",
      "/anaconda3/lib/python3.7/site-packages/ipykernel_launcher.py:6: SettingWithCopyWarning: \n",
      "A value is trying to be set on a copy of a slice from a DataFrame\n",
      "\n",
      "See the caveats in the documentation: http://pandas.pydata.org/pandas-docs/stable/indexing.html#indexing-view-versus-copy\n",
      "  \n"
     ]
    }
   ],
   "source": [
    "#trainデータの文字列を数値に変換\n",
    "train['Sex'][train['Sex'] == 'male'] = 0\n",
    "train['Sex'][train['Sex'] == 'female'] = 1\n",
    "train['Embarked'][train['Embarked'] == 'S'] = 0\n",
    "train['Embarked'][train['Embarked'] == 'C'] = 1\n",
    "train['Embarked'][train['Embarked'] == 'Q'] = 2\n",
    "train['Embarked'] = train['Embarked'].fillna(0)"
   ]
  },
  {
   "cell_type": "code",
   "execution_count": 4,
   "metadata": {},
   "outputs": [],
   "source": [
    "#欠損値を求める関数を作成\n",
    "def deficit_table(df):\n",
    "    null_sum = df.isnull().sum()\n",
    "    percent = 100 * null_sum/len(df)\n",
    "    deficit_table = pd.concat([null_sum, percent], axis = 1)\n",
    "    deficit_table_ren_columns = deficit_table.rename(columns = {0 : '欠損数', 1 : '%'})\n",
    "    return deficit_table_ren_columns"
   ]
  },
  {
   "cell_type": "code",
   "execution_count": 5,
   "metadata": {},
   "outputs": [],
   "source": [
    "#fareのnanに中央値を代入\n",
    "test['Fare'] = test['Fare'].fillna(test['Fare'].median())"
   ]
  },
  {
   "cell_type": "code",
   "execution_count": 6,
   "metadata": {},
   "outputs": [],
   "source": [
    "#ageのnanに中央値を代入\n",
    "#train['Age'] = train['Age'].fillna(test['Age'].median())\n",
    "#test['Age'] = test['Age'].fillna(test['Age'].median())"
   ]
  },
  {
   "cell_type": "code",
   "execution_count": 7,
   "metadata": {},
   "outputs": [
    {
     "name": "stderr",
     "output_type": "stream",
     "text": [
      "/anaconda3/lib/python3.7/site-packages/ipykernel_launcher.py:2: SettingWithCopyWarning: \n",
      "A value is trying to be set on a copy of a slice from a DataFrame\n",
      "\n",
      "See the caveats in the documentation: http://pandas.pydata.org/pandas-docs/stable/indexing.html#indexing-view-versus-copy\n",
      "  \n",
      "/anaconda3/lib/python3.7/site-packages/ipykernel_launcher.py:3: SettingWithCopyWarning: \n",
      "A value is trying to be set on a copy of a slice from a DataFrame\n",
      "\n",
      "See the caveats in the documentation: http://pandas.pydata.org/pandas-docs/stable/indexing.html#indexing-view-versus-copy\n",
      "  This is separate from the ipykernel package so we can avoid doing imports until\n",
      "/anaconda3/lib/python3.7/site-packages/ipykernel_launcher.py:4: SettingWithCopyWarning: \n",
      "A value is trying to be set on a copy of a slice from a DataFrame\n",
      "\n",
      "See the caveats in the documentation: http://pandas.pydata.org/pandas-docs/stable/indexing.html#indexing-view-versus-copy\n",
      "  after removing the cwd from sys.path.\n",
      "/anaconda3/lib/python3.7/site-packages/ipykernel_launcher.py:5: SettingWithCopyWarning: \n",
      "A value is trying to be set on a copy of a slice from a DataFrame\n",
      "\n",
      "See the caveats in the documentation: http://pandas.pydata.org/pandas-docs/stable/indexing.html#indexing-view-versus-copy\n",
      "  \"\"\"\n",
      "/anaconda3/lib/python3.7/site-packages/ipykernel_launcher.py:6: SettingWithCopyWarning: \n",
      "A value is trying to be set on a copy of a slice from a DataFrame\n",
      "\n",
      "See the caveats in the documentation: http://pandas.pydata.org/pandas-docs/stable/indexing.html#indexing-view-versus-copy\n",
      "  \n"
     ]
    }
   ],
   "source": [
    "#testデータの文字列を数値に変換\n",
    "test['Sex'][test['Sex'] == 'male'] = 0\n",
    "test['Sex'][test['Sex'] == 'female'] = 1\n",
    "test['Embarked'][test['Embarked'] == 'S'] = 0\n",
    "test['Embarked'][test['Embarked'] == 'C'] = 1\n",
    "test['Embarked'][test['Embarked'] == 'Q'] = 2"
   ]
  },
  {
   "cell_type": "code",
   "execution_count": 8,
   "metadata": {},
   "outputs": [],
   "source": [
    "#決定木のimport\n",
    "from sklearn import tree"
   ]
  },
  {
   "cell_type": "code",
   "execution_count": 9,
   "metadata": {},
   "outputs": [],
   "source": [
    "#train[Age]=NaNをランダムフォレストで求める\n",
    "target_train_age = np.array(train['Age'][train['Age'] >= 0].values, dtype = np.int64)\n",
    "features_train_age_one = train[['Pclass', 'Fare', 'Sex', 'SibSp', 'Embarked', 'Survived']][train['Age'] >= 0].values"
   ]
  },
  {
   "cell_type": "code",
   "execution_count": 10,
   "metadata": {},
   "outputs": [],
   "source": [
    "my_tree_age_train = tree.DecisionTreeClassifier()\n",
    "my_tree_age_train = my_tree_age_train.fit(features_train_age_one, target_train_age)"
   ]
  },
  {
   "cell_type": "code",
   "execution_count": 11,
   "metadata": {},
   "outputs": [],
   "source": [
    "train_features_age = train[['Pclass', 'Fare', 'Sex', 'SibSp', 'Embarked', 'Survived']][train['Age'].isnull()].values\n",
    "my_age_prediction = my_tree_age_train.predict(train_features_age)"
   ]
  },
  {
   "cell_type": "code",
   "execution_count": 12,
   "metadata": {},
   "outputs": [
    {
     "data": {
      "text/plain": [
       "array([33, 31, 15, 25, 19, 19, 40, 16, 20, 33, 30, 40, 16,  0, 28, 40,  9,\n",
       "       19, 30, 16, 30, 30, 19, 22, 30, 30, 31,  4, 29, 22, 17,  1, 22, 64,\n",
       "        4, 16, 23, 31, 32, 31, 16,  1, 25, 19,  2, 42, 14, 32, 22, 24, 31,\n",
       "       21, 55, 16, 38, 64, 40, 27, 16,  0, 30, 30, 17,  1,  0, 14, 19, 24,\n",
       "       45, 25, 19, 19, 40, 13, 16, 39, 19, 21,  2, 19, 19, 38, 30, 33, 22,\n",
       "       31, 24, 16, 18, 30, 35, 31, 30, 38, 21, 22, 47, 38,  2, 18, 17, 29,\n",
       "       19, 28, 30, 39, 25, 22, 64, 22,  4, 19, 23, 33, 38, 31, 30, 30, 22,\n",
       "       16, 17, 33, 30, 21,  6, 25, 19, 47, 25, 32, 31, 21, 38, 24, 32, 42,\n",
       "       19, 19, 19, 16, 35, 38, 33, 32, 16,  9, 62,  1, 16, 38, 19, 19, 80,\n",
       "       19, 36, 36, 25, 31, 21, 28, 31, 16, 56, 38, 45, 28, 29, 22, 30, 37,\n",
       "        1, 19, 22, 16, 28, 19,  4])"
      ]
     },
     "execution_count": 12,
     "metadata": {},
     "output_type": "execute_result"
    }
   ],
   "source": [
    "#train[Age]=NaNを埋める配列\n",
    "my_age_prediction"
   ]
  },
  {
   "cell_type": "code",
   "execution_count": 13,
   "metadata": {},
   "outputs": [
    {
     "name": "stderr",
     "output_type": "stream",
     "text": [
      "/anaconda3/lib/python3.7/site-packages/ipykernel_launcher.py:2: SettingWithCopyWarning: \n",
      "A value is trying to be set on a copy of a slice from a DataFrame\n",
      "\n",
      "See the caveats in the documentation: http://pandas.pydata.org/pandas-docs/stable/indexing.html#indexing-view-versus-copy\n",
      "  \n"
     ]
    }
   ],
   "source": [
    "#train['Age']=NaNを埋める\n",
    "train['Age'][train['Age'].isnull()] = my_age_prediction"
   ]
  },
  {
   "cell_type": "code",
   "execution_count": 14,
   "metadata": {},
   "outputs": [],
   "source": [
    "#test[Age]=NaNをランダムフォレストで求める\n",
    "target_test_age = np.array(test['Age'][test['Age'] >= 0].values, dtype = np.int64)\n",
    "features_test_age_one = test[['Pclass', 'Fare', 'Sex', 'SibSp', 'Embarked']][test['Age'] >= 0].values"
   ]
  },
  {
   "cell_type": "code",
   "execution_count": 15,
   "metadata": {},
   "outputs": [],
   "source": [
    "my_tree_age_test = tree.DecisionTreeClassifier()\n",
    "my_tree_age_test = my_tree_age_test.fit(features_test_age_one, target_test_age)"
   ]
  },
  {
   "cell_type": "code",
   "execution_count": 16,
   "metadata": {},
   "outputs": [],
   "source": [
    "test_features_age = test[['Pclass', 'Fare', 'Sex', 'SibSp', 'Embarked']][test['Age'].isnull()].values\n",
    "my_test_age_prediction = my_tree_age_test.predict(test_features_age)"
   ]
  },
  {
   "cell_type": "code",
   "execution_count": 17,
   "metadata": {},
   "outputs": [
    {
     "data": {
      "text/plain": [
       "array([17, 21, 29, 26, 18, 22, 42, 21, 41, 19, 31, 21, 17, 62, 18, 24, 26,\n",
       "       21, 21, 21, 27, 24, 21, 21, 21, 26, 29, 21, 55, 42, 17, 17, 23, 33,\n",
       "       24, 18, 21, 14, 30, 18,  9, 25, 23, 18, 21,  9, 24, 26, 17,  2,  9,\n",
       "       24, 21, 17, 49, 24, 18, 21,  9, 22, 24, 28, 18, 21, 47, 18, 29, 41,\n",
       "       24, 32, 22, 18, 40, 11, 17, 21, 40, 18, 21, 60, 26, 22, 24, 21, 21,\n",
       "        2])"
      ]
     },
     "execution_count": 17,
     "metadata": {},
     "output_type": "execute_result"
    }
   ],
   "source": [
    "#test[Age]=NaNを埋める配列\n",
    "my_test_age_prediction"
   ]
  },
  {
   "cell_type": "code",
   "execution_count": 18,
   "metadata": {},
   "outputs": [
    {
     "name": "stderr",
     "output_type": "stream",
     "text": [
      "/anaconda3/lib/python3.7/site-packages/ipykernel_launcher.py:2: SettingWithCopyWarning: \n",
      "A value is trying to be set on a copy of a slice from a DataFrame\n",
      "\n",
      "See the caveats in the documentation: http://pandas.pydata.org/pandas-docs/stable/indexing.html#indexing-view-versus-copy\n",
      "  \n"
     ]
    }
   ],
   "source": [
    "#test['Age']=NaNを埋める\n",
    "test['Age'][test['Age'].isnull()] = my_test_age_prediction"
   ]
  },
  {
   "cell_type": "code",
   "execution_count": 19,
   "metadata": {},
   "outputs": [],
   "source": [
    "#目的変数と説明変数(train)\n",
    "target = train['Survived'].values\n",
    "features_one = train[['Pclass', 'Age', 'Fare', 'Sex', 'SibSp', 'Parch', 'Embarked']]\n",
    "#決定木の作成\n",
    "my_tree_one = tree.DecisionTreeClassifier()\n",
    "my_tree_one = my_tree_one.fit(features_one, target)\n",
    "#テストデータの説明変数を取得\n",
    "test_features = test[['Pclass', 'Age', 'Fare', 'Sex', 'SibSp', 'Parch', 'Embarked']].values\n",
    "#testデータの説明変数を使ってモデルで予測\n",
    "my_prediction = my_tree_one.predict(test_features)"
   ]
  },
  {
   "cell_type": "code",
   "execution_count": 20,
   "metadata": {},
   "outputs": [],
   "source": [
    "#passangerIDを取得\n",
    "PassengerId = np.array(test[\"PassengerId\"]).astype(int)\n",
    "# my_prediction(予測データ）とPassengerIdをデータフレームへ落とし込む\n",
    "my_solution = pd.DataFrame(my_prediction, PassengerId, columns = [\"Survived\"])\n",
    " \n",
    "# my_tree_one.csvとして書き出し\n",
    "my_solution.to_csv(\"my_tree_one.csv\", index_label = [\"PassengerId\"])"
   ]
  },
  {
   "cell_type": "code",
   "execution_count": null,
   "metadata": {},
   "outputs": [],
   "source": []
  },
  {
   "cell_type": "code",
   "execution_count": null,
   "metadata": {},
   "outputs": [],
   "source": []
  },
  {
   "cell_type": "code",
   "execution_count": null,
   "metadata": {},
   "outputs": [],
   "source": []
  }
 ],
 "metadata": {
  "kernelspec": {
   "display_name": "Python 3",
   "language": "python",
   "name": "python3"
  },
  "language_info": {
   "codemirror_mode": {
    "name": "ipython",
    "version": 3
   },
   "file_extension": ".py",
   "mimetype": "text/x-python",
   "name": "python",
   "nbconvert_exporter": "python",
   "pygments_lexer": "ipython3",
   "version": "3.7.0"
  }
 },
 "nbformat": 4,
 "nbformat_minor": 2
}
